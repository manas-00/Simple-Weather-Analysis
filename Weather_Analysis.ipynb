{
 "cells": [
  {
   "cell_type": "code",
   "execution_count": null,
   "metadata": {},
   "outputs": [],
   "source": [
    "''' \n",
    "Solutions to following questions\n",
    "\n",
    "Q. 1)  Find all the unique 'Wind Speed' values in the data.\n",
    "Q. 2) Find the number of times when the 'Weather is exactly Clear'.\n",
    "Q. 3) Find the number of times when the 'Wind Speed was exactly 4 km/h'.\n",
    "Q. 4) Find out all the Null Values in the data.\n",
    "Q. 5) Rename the column name 'Weather' of the dataframe to 'Weather Condition'.\n",
    "Q. 6) What is the mean 'Visibility' ?\n",
    "Q. 7) What is the Standard Deviation of 'Pressure'  in this data?\n",
    "Q. 8) What is the Variance of 'Relative Humidity' in this data ?\n",
    "Q. 9) Find all instances when 'Snow' was recorded.\n",
    "Q. 10) Find all instances when 'Wind Speed is above 24' and 'Visibility is 25'.\n",
    "Q. 11) What is the Mean value of each column against each 'Weather Condition ?\n",
    "Q. 12) What is the Minimum & Maximum value of each column against each 'Weather Condition ?\n",
    "Q. 13) Show all the Records where Weather Condition is Fog.\n",
    "Q. 14) Find all instances when 'Weather is Clear' or 'Visibility is above 40'.\n",
    "Q. 15) Find all instances when :\n",
    "A. 'Weather is Clear' and 'Relative Humidity is greater than 50'\n",
    "or\n",
    "B. 'Visibility is above 40'\n",
    "'''"
   ]
  },
  {
   "cell_type": "code",
   "execution_count": 17,
   "metadata": {},
   "outputs": [],
   "source": [
    "# reading data\n",
    "import pandas as pd\n",
    "data = pd.read_csv(\"Weather Data.csv\")"
   ]
  },
  {
   "cell_type": "code",
   "execution_count": 22,
   "metadata": {},
   "outputs": [
    {
     "data": {
      "text/plain": [
       "Index(['Date/Time', 'Temp_C', 'Dew Point Temp_C', 'Rel Hum_%',\n",
       "       'Wind Speed_km/h', 'Visibility_km', 'Press_kPa', 'Weather'],\n",
       "      dtype='object')"
      ]
     },
     "execution_count": 22,
     "metadata": {},
     "output_type": "execute_result"
    }
   ],
   "source": [
    "# preview data\n",
    "data.columns"
   ]
  },
  {
   "cell_type": "code",
   "execution_count": 26,
   "metadata": {},
   "outputs": [
    {
     "name": "stdout",
     "output_type": "stream",
     "text": [
      "34\n",
      "[ 4  7  6  9 15 13 20 22 19 24 30 35 39 32 33 26 44 43 48 37 28 17 11  0\n",
      " 83 70 57 46 41 52 50 63 54  2]\n"
     ]
    },
    {
     "data": {
      "text/plain": [
       "Date/Time           8784\n",
       "Temp_C               533\n",
       "Dew Point Temp_C     489\n",
       "Rel Hum_%             83\n",
       "Wind Speed_km/h       34\n",
       "Visibility_km         24\n",
       "Press_kPa            518\n",
       "Weather               50\n",
       "dtype: int64"
      ]
     },
     "execution_count": 26,
     "metadata": {},
     "output_type": "execute_result"
    }
   ],
   "source": [
    "# Answer 1\n",
    "# unique values in column Wind Speed\n",
    "print(data['Wind Speed_km/h'].nunique())\n",
    "print(data['Wind Speed_km/h'].unique())\n",
    "data.nunique()"
   ]
  },
  {
   "cell_type": "code",
   "execution_count": 37,
   "metadata": {},
   "outputs": [
    {
     "data": {
      "text/html": [
       "<div>\n",
       "<style scoped>\n",
       "    .dataframe tbody tr th:only-of-type {\n",
       "        vertical-align: middle;\n",
       "    }\n",
       "\n",
       "    .dataframe tbody tr th {\n",
       "        vertical-align: top;\n",
       "    }\n",
       "\n",
       "    .dataframe thead th {\n",
       "        text-align: right;\n",
       "    }\n",
       "</style>\n",
       "<table border=\"1\" class=\"dataframe\">\n",
       "  <thead>\n",
       "    <tr style=\"text-align: right;\">\n",
       "      <th></th>\n",
       "      <th>Date/Time</th>\n",
       "      <th>Temp_C</th>\n",
       "      <th>Dew Point Temp_C</th>\n",
       "      <th>Rel Hum_%</th>\n",
       "      <th>Wind Speed_km/h</th>\n",
       "      <th>Visibility_km</th>\n",
       "      <th>Press_kPa</th>\n",
       "      <th>Weather</th>\n",
       "    </tr>\n",
       "  </thead>\n",
       "  <tbody>\n",
       "    <tr>\n",
       "      <th>67</th>\n",
       "      <td>1/3/2012 19:00</td>\n",
       "      <td>-16.9</td>\n",
       "      <td>-24.8</td>\n",
       "      <td>50</td>\n",
       "      <td>24</td>\n",
       "      <td>25.0</td>\n",
       "      <td>101.74</td>\n",
       "      <td>Clear</td>\n",
       "    </tr>\n",
       "    <tr>\n",
       "      <th>114</th>\n",
       "      <td>1/5/2012 18:00</td>\n",
       "      <td>-7.1</td>\n",
       "      <td>-14.4</td>\n",
       "      <td>56</td>\n",
       "      <td>11</td>\n",
       "      <td>25.0</td>\n",
       "      <td>100.71</td>\n",
       "      <td>Clear</td>\n",
       "    </tr>\n",
       "    <tr>\n",
       "      <th>115</th>\n",
       "      <td>1/5/2012 19:00</td>\n",
       "      <td>-9.2</td>\n",
       "      <td>-15.4</td>\n",
       "      <td>61</td>\n",
       "      <td>7</td>\n",
       "      <td>25.0</td>\n",
       "      <td>100.80</td>\n",
       "      <td>Clear</td>\n",
       "    </tr>\n",
       "    <tr>\n",
       "      <th>116</th>\n",
       "      <td>1/5/2012 20:00</td>\n",
       "      <td>-9.8</td>\n",
       "      <td>-15.7</td>\n",
       "      <td>62</td>\n",
       "      <td>9</td>\n",
       "      <td>25.0</td>\n",
       "      <td>100.83</td>\n",
       "      <td>Clear</td>\n",
       "    </tr>\n",
       "    <tr>\n",
       "      <th>117</th>\n",
       "      <td>1/5/2012 21:00</td>\n",
       "      <td>-9.0</td>\n",
       "      <td>-14.8</td>\n",
       "      <td>63</td>\n",
       "      <td>13</td>\n",
       "      <td>25.0</td>\n",
       "      <td>100.83</td>\n",
       "      <td>Clear</td>\n",
       "    </tr>\n",
       "    <tr>\n",
       "      <th>...</th>\n",
       "      <td>...</td>\n",
       "      <td>...</td>\n",
       "      <td>...</td>\n",
       "      <td>...</td>\n",
       "      <td>...</td>\n",
       "      <td>...</td>\n",
       "      <td>...</td>\n",
       "      <td>...</td>\n",
       "    </tr>\n",
       "    <tr>\n",
       "      <th>8646</th>\n",
       "      <td>12/26/2012 6:00</td>\n",
       "      <td>-13.4</td>\n",
       "      <td>-14.8</td>\n",
       "      <td>89</td>\n",
       "      <td>4</td>\n",
       "      <td>25.0</td>\n",
       "      <td>102.47</td>\n",
       "      <td>Clear</td>\n",
       "    </tr>\n",
       "    <tr>\n",
       "      <th>8698</th>\n",
       "      <td>12/28/2012 10:00</td>\n",
       "      <td>-6.1</td>\n",
       "      <td>-8.6</td>\n",
       "      <td>82</td>\n",
       "      <td>19</td>\n",
       "      <td>24.1</td>\n",
       "      <td>101.27</td>\n",
       "      <td>Clear</td>\n",
       "    </tr>\n",
       "    <tr>\n",
       "      <th>8713</th>\n",
       "      <td>12/29/2012 1:00</td>\n",
       "      <td>-11.9</td>\n",
       "      <td>-13.6</td>\n",
       "      <td>87</td>\n",
       "      <td>11</td>\n",
       "      <td>25.0</td>\n",
       "      <td>101.31</td>\n",
       "      <td>Clear</td>\n",
       "    </tr>\n",
       "    <tr>\n",
       "      <th>8714</th>\n",
       "      <td>12/29/2012 2:00</td>\n",
       "      <td>-11.8</td>\n",
       "      <td>-13.1</td>\n",
       "      <td>90</td>\n",
       "      <td>13</td>\n",
       "      <td>25.0</td>\n",
       "      <td>101.33</td>\n",
       "      <td>Clear</td>\n",
       "    </tr>\n",
       "    <tr>\n",
       "      <th>8756</th>\n",
       "      <td>12/30/2012 20:00</td>\n",
       "      <td>-13.8</td>\n",
       "      <td>-16.5</td>\n",
       "      <td>80</td>\n",
       "      <td>24</td>\n",
       "      <td>25.0</td>\n",
       "      <td>101.52</td>\n",
       "      <td>Clear</td>\n",
       "    </tr>\n",
       "  </tbody>\n",
       "</table>\n",
       "<p>1326 rows × 8 columns</p>\n",
       "</div>"
      ],
      "text/plain": [
       "             Date/Time  Temp_C  Dew Point Temp_C  Rel Hum_%  Wind Speed_km/h  \\\n",
       "67      1/3/2012 19:00   -16.9             -24.8         50               24   \n",
       "114     1/5/2012 18:00    -7.1             -14.4         56               11   \n",
       "115     1/5/2012 19:00    -9.2             -15.4         61                7   \n",
       "116     1/5/2012 20:00    -9.8             -15.7         62                9   \n",
       "117     1/5/2012 21:00    -9.0             -14.8         63               13   \n",
       "...                ...     ...               ...        ...              ...   \n",
       "8646   12/26/2012 6:00   -13.4             -14.8         89                4   \n",
       "8698  12/28/2012 10:00    -6.1              -8.6         82               19   \n",
       "8713   12/29/2012 1:00   -11.9             -13.6         87               11   \n",
       "8714   12/29/2012 2:00   -11.8             -13.1         90               13   \n",
       "8756  12/30/2012 20:00   -13.8             -16.5         80               24   \n",
       "\n",
       "      Visibility_km  Press_kPa Weather  \n",
       "67             25.0     101.74   Clear  \n",
       "114            25.0     100.71   Clear  \n",
       "115            25.0     100.80   Clear  \n",
       "116            25.0     100.83   Clear  \n",
       "117            25.0     100.83   Clear  \n",
       "...             ...        ...     ...  \n",
       "8646           25.0     102.47   Clear  \n",
       "8698           24.1     101.27   Clear  \n",
       "8713           25.0     101.31   Clear  \n",
       "8714           25.0     101.33   Clear  \n",
       "8756           25.0     101.52   Clear  \n",
       "\n",
       "[1326 rows x 8 columns]"
      ]
     },
     "execution_count": 37,
     "metadata": {},
     "output_type": "execute_result"
    }
   ],
   "source": [
    "# Answer 2 \n",
    "# number of times when the 'Weather is exactly Clear'\n",
    "\n",
    "data['Weather'].value_counts() # using value count\n",
    "data[data.Weather == 'Clear'].count()  # using filtering & boolean\n",
    "data.groupby('Weather').get_group('Clear') # using groupby and get_group"
   ]
  },
  {
   "cell_type": "code",
   "execution_count": 51,
   "metadata": {},
   "outputs": [
    {
     "data": {
      "text/plain": [
       "Date/Time           474\n",
       "Temp_C              474\n",
       "Dew Point Temp_C    474\n",
       "Rel Hum_%           474\n",
       "Wind Speed_km/h     474\n",
       "Visibility_km       474\n",
       "Press_kPa           474\n",
       "Weather             474\n",
       "dtype: int64"
      ]
     },
     "execution_count": 51,
     "metadata": {},
     "output_type": "execute_result"
    }
   ],
   "source": [
    "# Answer 3\n",
    "# number of times when the 'Wind Speed was exactly 4 km/h'\n",
    "data.columns\n",
    "data[data['Wind Speed_km/h'] == 4].count()"
   ]
  },
  {
   "cell_type": "code",
   "execution_count": 60,
   "metadata": {},
   "outputs": [
    {
     "data": {
      "text/plain": [
       "Date/Time           8784\n",
       "Temp_C              8784\n",
       "Dew Point Temp_C    8784\n",
       "Rel Hum_%           8784\n",
       "Wind Speed_km/h     8784\n",
       "Visibility_km       8784\n",
       "Press_kPa           8784\n",
       "Weather             8784\n",
       "dtype: int64"
      ]
     },
     "execution_count": 60,
     "metadata": {},
     "output_type": "execute_result"
    }
   ],
   "source": [
    "# Answer 4\n",
    "# the Null Values in the data\n",
    "data.isnull().sum()  # using isnull() function\n",
    "data.notnull().count() "
   ]
  },
  {
   "cell_type": "code",
   "execution_count": 72,
   "metadata": {},
   "outputs": [],
   "source": [
    "# Answer 5\n",
    "# Rename the column name 'Weather' of the dataframe to 'Weather Condition'.\n",
    "data.rename(columns = {'Weather':'Weather Condition'}) # Temporary\n",
    "data['Weather'].rename('Weather Condition')            # Temporary\n",
    "data.rename(columns = {'Weather':'Weather Condition'}, inplace = True) # Permanent"
   ]
  },
  {
   "cell_type": "code",
   "execution_count": 73,
   "metadata": {},
   "outputs": [
    {
     "data": {
      "text/html": [
       "<div>\n",
       "<style scoped>\n",
       "    .dataframe tbody tr th:only-of-type {\n",
       "        vertical-align: middle;\n",
       "    }\n",
       "\n",
       "    .dataframe tbody tr th {\n",
       "        vertical-align: top;\n",
       "    }\n",
       "\n",
       "    .dataframe thead th {\n",
       "        text-align: right;\n",
       "    }\n",
       "</style>\n",
       "<table border=\"1\" class=\"dataframe\">\n",
       "  <thead>\n",
       "    <tr style=\"text-align: right;\">\n",
       "      <th></th>\n",
       "      <th>Date/Time</th>\n",
       "      <th>Temp_C</th>\n",
       "      <th>Dew Point Temp_C</th>\n",
       "      <th>Rel Hum_%</th>\n",
       "      <th>Wind Speed_km/h</th>\n",
       "      <th>Visibility_km</th>\n",
       "      <th>Press_kPa</th>\n",
       "      <th>Weather Condition</th>\n",
       "    </tr>\n",
       "  </thead>\n",
       "  <tbody>\n",
       "    <tr>\n",
       "      <th>0</th>\n",
       "      <td>1/1/2012 0:00</td>\n",
       "      <td>-1.8</td>\n",
       "      <td>-3.9</td>\n",
       "      <td>86</td>\n",
       "      <td>4</td>\n",
       "      <td>8.0</td>\n",
       "      <td>101.24</td>\n",
       "      <td>Fog</td>\n",
       "    </tr>\n",
       "    <tr>\n",
       "      <th>1</th>\n",
       "      <td>1/1/2012 1:00</td>\n",
       "      <td>-1.8</td>\n",
       "      <td>-3.7</td>\n",
       "      <td>87</td>\n",
       "      <td>4</td>\n",
       "      <td>8.0</td>\n",
       "      <td>101.24</td>\n",
       "      <td>Fog</td>\n",
       "    </tr>\n",
       "    <tr>\n",
       "      <th>2</th>\n",
       "      <td>1/1/2012 2:00</td>\n",
       "      <td>-1.8</td>\n",
       "      <td>-3.4</td>\n",
       "      <td>89</td>\n",
       "      <td>7</td>\n",
       "      <td>4.0</td>\n",
       "      <td>101.26</td>\n",
       "      <td>Freezing Drizzle,Fog</td>\n",
       "    </tr>\n",
       "    <tr>\n",
       "      <th>3</th>\n",
       "      <td>1/1/2012 3:00</td>\n",
       "      <td>-1.5</td>\n",
       "      <td>-3.2</td>\n",
       "      <td>88</td>\n",
       "      <td>6</td>\n",
       "      <td>4.0</td>\n",
       "      <td>101.27</td>\n",
       "      <td>Freezing Drizzle,Fog</td>\n",
       "    </tr>\n",
       "    <tr>\n",
       "      <th>4</th>\n",
       "      <td>1/1/2012 4:00</td>\n",
       "      <td>-1.5</td>\n",
       "      <td>-3.3</td>\n",
       "      <td>88</td>\n",
       "      <td>7</td>\n",
       "      <td>4.8</td>\n",
       "      <td>101.23</td>\n",
       "      <td>Fog</td>\n",
       "    </tr>\n",
       "    <tr>\n",
       "      <th>...</th>\n",
       "      <td>...</td>\n",
       "      <td>...</td>\n",
       "      <td>...</td>\n",
       "      <td>...</td>\n",
       "      <td>...</td>\n",
       "      <td>...</td>\n",
       "      <td>...</td>\n",
       "      <td>...</td>\n",
       "    </tr>\n",
       "    <tr>\n",
       "      <th>8779</th>\n",
       "      <td>12/31/2012 19:00</td>\n",
       "      <td>0.1</td>\n",
       "      <td>-2.7</td>\n",
       "      <td>81</td>\n",
       "      <td>30</td>\n",
       "      <td>9.7</td>\n",
       "      <td>100.13</td>\n",
       "      <td>Snow</td>\n",
       "    </tr>\n",
       "    <tr>\n",
       "      <th>8780</th>\n",
       "      <td>12/31/2012 20:00</td>\n",
       "      <td>0.2</td>\n",
       "      <td>-2.4</td>\n",
       "      <td>83</td>\n",
       "      <td>24</td>\n",
       "      <td>9.7</td>\n",
       "      <td>100.03</td>\n",
       "      <td>Snow</td>\n",
       "    </tr>\n",
       "    <tr>\n",
       "      <th>8781</th>\n",
       "      <td>12/31/2012 21:00</td>\n",
       "      <td>-0.5</td>\n",
       "      <td>-1.5</td>\n",
       "      <td>93</td>\n",
       "      <td>28</td>\n",
       "      <td>4.8</td>\n",
       "      <td>99.95</td>\n",
       "      <td>Snow</td>\n",
       "    </tr>\n",
       "    <tr>\n",
       "      <th>8782</th>\n",
       "      <td>12/31/2012 22:00</td>\n",
       "      <td>-0.2</td>\n",
       "      <td>-1.8</td>\n",
       "      <td>89</td>\n",
       "      <td>28</td>\n",
       "      <td>9.7</td>\n",
       "      <td>99.91</td>\n",
       "      <td>Snow</td>\n",
       "    </tr>\n",
       "    <tr>\n",
       "      <th>8783</th>\n",
       "      <td>12/31/2012 23:00</td>\n",
       "      <td>0.0</td>\n",
       "      <td>-2.1</td>\n",
       "      <td>86</td>\n",
       "      <td>30</td>\n",
       "      <td>11.3</td>\n",
       "      <td>99.89</td>\n",
       "      <td>Snow</td>\n",
       "    </tr>\n",
       "  </tbody>\n",
       "</table>\n",
       "<p>8784 rows × 8 columns</p>\n",
       "</div>"
      ],
      "text/plain": [
       "             Date/Time  Temp_C  Dew Point Temp_C  Rel Hum_%  Wind Speed_km/h  \\\n",
       "0        1/1/2012 0:00    -1.8              -3.9         86                4   \n",
       "1        1/1/2012 1:00    -1.8              -3.7         87                4   \n",
       "2        1/1/2012 2:00    -1.8              -3.4         89                7   \n",
       "3        1/1/2012 3:00    -1.5              -3.2         88                6   \n",
       "4        1/1/2012 4:00    -1.5              -3.3         88                7   \n",
       "...                ...     ...               ...        ...              ...   \n",
       "8779  12/31/2012 19:00     0.1              -2.7         81               30   \n",
       "8780  12/31/2012 20:00     0.2              -2.4         83               24   \n",
       "8781  12/31/2012 21:00    -0.5              -1.5         93               28   \n",
       "8782  12/31/2012 22:00    -0.2              -1.8         89               28   \n",
       "8783  12/31/2012 23:00     0.0              -2.1         86               30   \n",
       "\n",
       "      Visibility_km  Press_kPa     Weather Condition  \n",
       "0               8.0     101.24                   Fog  \n",
       "1               8.0     101.24                   Fog  \n",
       "2               4.0     101.26  Freezing Drizzle,Fog  \n",
       "3               4.0     101.27  Freezing Drizzle,Fog  \n",
       "4               4.8     101.23                   Fog  \n",
       "...             ...        ...                   ...  \n",
       "8779            9.7     100.13                  Snow  \n",
       "8780            9.7     100.03                  Snow  \n",
       "8781            4.8      99.95                  Snow  \n",
       "8782            9.7      99.91                  Snow  \n",
       "8783           11.3      99.89                  Snow  \n",
       "\n",
       "[8784 rows x 8 columns]"
      ]
     },
     "execution_count": 73,
     "metadata": {},
     "output_type": "execute_result"
    }
   ],
   "source": [
    "data"
   ]
  },
  {
   "cell_type": "code",
   "execution_count": 77,
   "metadata": {},
   "outputs": [
    {
     "data": {
      "text/plain": [
       "Index(['Date/Time', 'Temp_C', 'Dew Point Temp_C', 'Rel Hum_%',\n",
       "       'Wind Speed_km/h', 'Visibility_km', 'Press_kPa', 'Weather Condition'],\n",
       "      dtype='object')"
      ]
     },
     "execution_count": 77,
     "metadata": {},
     "output_type": "execute_result"
    }
   ],
   "source": [
    "# Answer 6\n",
    "# What is the mean 'Visibility' ?\n",
    "data.Visibility_km.mean()\n"
   ]
  },
  {
   "cell_type": "code",
   "execution_count": 82,
   "metadata": {},
   "outputs": [
    {
     "data": {
      "text/plain": [
       "0.8440047459486483"
      ]
     },
     "execution_count": 82,
     "metadata": {},
     "output_type": "execute_result"
    }
   ],
   "source": [
    "# Answer 7\n",
    "# What is the Standard Deviation of 'Pressure'  in this data?\n",
    "\n",
    "data['Press_kPa'].std()\n"
   ]
  },
  {
   "cell_type": "code",
   "execution_count": 81,
   "metadata": {},
   "outputs": [
    {
     "data": {
      "text/plain": [
       "286.24855019850196"
      ]
     },
     "execution_count": 81,
     "metadata": {},
     "output_type": "execute_result"
    }
   ],
   "source": [
    "\n",
    "# Answer 8 \n",
    "# What is the Variance of 'Relative Humidity' in this data ?\n",
    "data['Rel Hum_%'].var()"
   ]
  },
  {
   "cell_type": "code",
   "execution_count": 85,
   "metadata": {},
   "outputs": [
    {
     "data": {
      "text/plain": [
       "Date/Time            390\n",
       "Temp_C               390\n",
       "Dew Point Temp_C     390\n",
       "Rel Hum_%            390\n",
       "Wind Speed_km/h      390\n",
       "Visibility_km        390\n",
       "Press_kPa            390\n",
       "Weather Condition    390\n",
       "dtype: int64"
      ]
     },
     "execution_count": 85,
     "metadata": {},
     "output_type": "execute_result"
    }
   ],
   "source": [
    "\n",
    "# Answer 9\n",
    "# Find all instances when 'Snow' was recorded.\n",
    "\n",
    "data[data['Weather Condition'] == 'Snow'].count()\n"
   ]
  },
  {
   "cell_type": "code",
   "execution_count": 94,
   "metadata": {},
   "outputs": [
    {
     "data": {
      "text/plain": [
       "Date/Time            308\n",
       "Temp_C               308\n",
       "Dew Point Temp_C     308\n",
       "Rel Hum_%            308\n",
       "Wind Speed_km/h      308\n",
       "Visibility_km        308\n",
       "Press_kPa            308\n",
       "Weather Condition    308\n",
       "dtype: int64"
      ]
     },
     "execution_count": 94,
     "metadata": {},
     "output_type": "execute_result"
    }
   ],
   "source": [
    "\n",
    "# Answer 10     \n",
    "# Find all instances when 'Wind Speed is above 24' and 'Visibility is 25'.\n",
    "data[(data['Wind Speed_km/h'] > 24) & (data['Visibility_km'] == 25)].count()\n"
   ]
  },
  {
   "cell_type": "code",
   "execution_count": null,
   "metadata": {},
   "outputs": [],
   "source": [
    "# Answer 11\n",
    "# What is the Mean value of each column against each 'Weather Condition ?\n",
    "data.groupby('Weather Condition').mean()"
   ]
  },
  {
   "cell_type": "code",
   "execution_count": null,
   "metadata": {},
   "outputs": [],
   "source": [
    "# Answer 12\n",
    "# What is the Minimum & Maximum value of each column against each 'Weather Condition ?\n",
    "data.groupby('Weather Condition').max()"
   ]
  },
  {
   "cell_type": "code",
   "execution_count": null,
   "metadata": {},
   "outputs": [],
   "source": [
    "# Answer 12\n",
    "data.groupby('Weather Condition').min()"
   ]
  },
  {
   "cell_type": "code",
   "execution_count": 103,
   "metadata": {},
   "outputs": [
    {
     "data": {
      "text/plain": [
       "Index(['Date/Time', 'Temp_C', 'Dew Point Temp_C', 'Rel Hum_%',\n",
       "       'Wind Speed_km/h', 'Visibility_km', 'Press_kPa', 'Weather Condition'],\n",
       "      dtype='object')"
      ]
     },
     "execution_count": 103,
     "metadata": {},
     "output_type": "execute_result"
    }
   ],
   "source": [
    "# Answer 13\n",
    "# Show all the Records where Weather Condition is Fog.\n",
    "data[data['Weather Condition'] == 'Fog'].count()\n",
    "data.columns"
   ]
  },
  {
   "cell_type": "code",
   "execution_count": 105,
   "metadata": {},
   "outputs": [
    {
     "data": {
      "text/plain": [
       "Date/Time            3027\n",
       "Temp_C               3027\n",
       "Dew Point Temp_C     3027\n",
       "Rel Hum_%            3027\n",
       "Wind Speed_km/h      3027\n",
       "Visibility_km        3027\n",
       "Press_kPa            3027\n",
       "Weather Condition    3027\n",
       "dtype: int64"
      ]
     },
     "execution_count": 105,
     "metadata": {},
     "output_type": "execute_result"
    }
   ],
   "source": [
    "# Answer 14\n",
    "# Find all instances when 'Weather is Clear' or 'Visibility is above 40'.\n",
    "data[(data['Weather Condition'] == 'Clear') | (data['Visibility_km'] > 40)].count()"
   ]
  },
  {
   "cell_type": "code",
   "execution_count": 107,
   "metadata": {},
   "outputs": [
    {
     "data": {
      "text/html": [
       "<div>\n",
       "<style scoped>\n",
       "    .dataframe tbody tr th:only-of-type {\n",
       "        vertical-align: middle;\n",
       "    }\n",
       "\n",
       "    .dataframe tbody tr th {\n",
       "        vertical-align: top;\n",
       "    }\n",
       "\n",
       "    .dataframe thead th {\n",
       "        text-align: right;\n",
       "    }\n",
       "</style>\n",
       "<table border=\"1\" class=\"dataframe\">\n",
       "  <thead>\n",
       "    <tr style=\"text-align: right;\">\n",
       "      <th></th>\n",
       "      <th>Date/Time</th>\n",
       "      <th>Temp_C</th>\n",
       "      <th>Dew Point Temp_C</th>\n",
       "      <th>Rel Hum_%</th>\n",
       "      <th>Wind Speed_km/h</th>\n",
       "      <th>Visibility_km</th>\n",
       "      <th>Press_kPa</th>\n",
       "      <th>Weather Condition</th>\n",
       "    </tr>\n",
       "  </thead>\n",
       "  <tbody>\n",
       "    <tr>\n",
       "      <th>106</th>\n",
       "      <td>1/5/2012 10:00</td>\n",
       "      <td>-6.0</td>\n",
       "      <td>-10.0</td>\n",
       "      <td>73</td>\n",
       "      <td>17</td>\n",
       "      <td>48.3</td>\n",
       "      <td>100.45</td>\n",
       "      <td>Mainly Clear</td>\n",
       "    </tr>\n",
       "    <tr>\n",
       "      <th>107</th>\n",
       "      <td>1/5/2012 11:00</td>\n",
       "      <td>-5.6</td>\n",
       "      <td>-10.2</td>\n",
       "      <td>70</td>\n",
       "      <td>22</td>\n",
       "      <td>48.3</td>\n",
       "      <td>100.41</td>\n",
       "      <td>Mainly Clear</td>\n",
       "    </tr>\n",
       "    <tr>\n",
       "      <th>108</th>\n",
       "      <td>1/5/2012 12:00</td>\n",
       "      <td>-4.7</td>\n",
       "      <td>-9.6</td>\n",
       "      <td>69</td>\n",
       "      <td>20</td>\n",
       "      <td>48.3</td>\n",
       "      <td>100.38</td>\n",
       "      <td>Mainly Clear</td>\n",
       "    </tr>\n",
       "    <tr>\n",
       "      <th>109</th>\n",
       "      <td>1/5/2012 13:00</td>\n",
       "      <td>-4.4</td>\n",
       "      <td>-9.7</td>\n",
       "      <td>66</td>\n",
       "      <td>26</td>\n",
       "      <td>48.3</td>\n",
       "      <td>100.40</td>\n",
       "      <td>Mainly Clear</td>\n",
       "    </tr>\n",
       "    <tr>\n",
       "      <th>110</th>\n",
       "      <td>1/5/2012 14:00</td>\n",
       "      <td>-5.1</td>\n",
       "      <td>-10.7</td>\n",
       "      <td>65</td>\n",
       "      <td>22</td>\n",
       "      <td>48.3</td>\n",
       "      <td>100.46</td>\n",
       "      <td>Mainly Clear</td>\n",
       "    </tr>\n",
       "    <tr>\n",
       "      <th>...</th>\n",
       "      <td>...</td>\n",
       "      <td>...</td>\n",
       "      <td>...</td>\n",
       "      <td>...</td>\n",
       "      <td>...</td>\n",
       "      <td>...</td>\n",
       "      <td>...</td>\n",
       "      <td>...</td>\n",
       "    </tr>\n",
       "    <tr>\n",
       "      <th>8749</th>\n",
       "      <td>12/30/2012 13:00</td>\n",
       "      <td>-12.4</td>\n",
       "      <td>-16.2</td>\n",
       "      <td>73</td>\n",
       "      <td>37</td>\n",
       "      <td>48.3</td>\n",
       "      <td>100.92</td>\n",
       "      <td>Mostly Cloudy</td>\n",
       "    </tr>\n",
       "    <tr>\n",
       "      <th>8750</th>\n",
       "      <td>12/30/2012 14:00</td>\n",
       "      <td>-11.8</td>\n",
       "      <td>-16.1</td>\n",
       "      <td>70</td>\n",
       "      <td>37</td>\n",
       "      <td>48.3</td>\n",
       "      <td>100.96</td>\n",
       "      <td>Mainly Clear</td>\n",
       "    </tr>\n",
       "    <tr>\n",
       "      <th>8751</th>\n",
       "      <td>12/30/2012 15:00</td>\n",
       "      <td>-11.3</td>\n",
       "      <td>-15.6</td>\n",
       "      <td>70</td>\n",
       "      <td>32</td>\n",
       "      <td>48.3</td>\n",
       "      <td>101.05</td>\n",
       "      <td>Mainly Clear</td>\n",
       "    </tr>\n",
       "    <tr>\n",
       "      <th>8752</th>\n",
       "      <td>12/30/2012 16:00</td>\n",
       "      <td>-11.4</td>\n",
       "      <td>-15.5</td>\n",
       "      <td>72</td>\n",
       "      <td>26</td>\n",
       "      <td>48.3</td>\n",
       "      <td>101.15</td>\n",
       "      <td>Mainly Clear</td>\n",
       "    </tr>\n",
       "    <tr>\n",
       "      <th>8756</th>\n",
       "      <td>12/30/2012 20:00</td>\n",
       "      <td>-13.8</td>\n",
       "      <td>-16.5</td>\n",
       "      <td>80</td>\n",
       "      <td>24</td>\n",
       "      <td>25.0</td>\n",
       "      <td>101.52</td>\n",
       "      <td>Clear</td>\n",
       "    </tr>\n",
       "  </tbody>\n",
       "</table>\n",
       "<p>2921 rows × 8 columns</p>\n",
       "</div>"
      ],
      "text/plain": [
       "             Date/Time  Temp_C  Dew Point Temp_C  Rel Hum_%  Wind Speed_km/h  \\\n",
       "106     1/5/2012 10:00    -6.0             -10.0         73               17   \n",
       "107     1/5/2012 11:00    -5.6             -10.2         70               22   \n",
       "108     1/5/2012 12:00    -4.7              -9.6         69               20   \n",
       "109     1/5/2012 13:00    -4.4              -9.7         66               26   \n",
       "110     1/5/2012 14:00    -5.1             -10.7         65               22   \n",
       "...                ...     ...               ...        ...              ...   \n",
       "8749  12/30/2012 13:00   -12.4             -16.2         73               37   \n",
       "8750  12/30/2012 14:00   -11.8             -16.1         70               37   \n",
       "8751  12/30/2012 15:00   -11.3             -15.6         70               32   \n",
       "8752  12/30/2012 16:00   -11.4             -15.5         72               26   \n",
       "8756  12/30/2012 20:00   -13.8             -16.5         80               24   \n",
       "\n",
       "      Visibility_km  Press_kPa Weather Condition  \n",
       "106            48.3     100.45      Mainly Clear  \n",
       "107            48.3     100.41      Mainly Clear  \n",
       "108            48.3     100.38      Mainly Clear  \n",
       "109            48.3     100.40      Mainly Clear  \n",
       "110            48.3     100.46      Mainly Clear  \n",
       "...             ...        ...               ...  \n",
       "8749           48.3     100.92     Mostly Cloudy  \n",
       "8750           48.3     100.96      Mainly Clear  \n",
       "8751           48.3     101.05      Mainly Clear  \n",
       "8752           48.3     101.15      Mainly Clear  \n",
       "8756           25.0     101.52             Clear  \n",
       "\n",
       "[2921 rows x 8 columns]"
      ]
     },
     "execution_count": 107,
     "metadata": {},
     "output_type": "execute_result"
    }
   ],
   "source": [
    "# Answer 15\n",
    "# Find all instances when :\n",
    "# A. 'Weather is Clear' and 'Relative Humidity is greater than 50'\n",
    "# or\n",
    "# B. 'Visibility is above 40'\n",
    "\n",
    "data[((data['Weather Condition'] == 'Clear') & (data['Rel Hum_%'] > 50)) | (data['Visibility_km'] > 40) ]"
   ]
  }
 ],
 "metadata": {
  "kernelspec": {
   "display_name": "Python 3",
   "language": "python",
   "name": "python3"
  },
  "language_info": {
   "codemirror_mode": {
    "name": "ipython",
    "version": 3
   },
   "file_extension": ".py",
   "mimetype": "text/x-python",
   "name": "python",
   "nbconvert_exporter": "python",
   "pygments_lexer": "ipython3",
   "version": "3.10.11"
  },
  "orig_nbformat": 4
 },
 "nbformat": 4,
 "nbformat_minor": 2
}
